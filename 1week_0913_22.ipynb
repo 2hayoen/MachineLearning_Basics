{
 "cells": [
  {
   "cell_type": "markdown",
   "id": "2055f083",
   "metadata": {},
   "source": [
    "## Python Tutorial"
   ]
  },
  {
   "cell_type": "code",
   "execution_count": 2,
   "id": "9db53d09",
   "metadata": {},
   "outputs": [
    {
     "name": "stdout",
     "output_type": "stream",
     "text": [
      "[1, 1, 2, 3, 6, 8, 10]\n"
     ]
    }
   ],
   "source": [
    "# quicksort 구현예제\n",
    "\n",
    "# 구현하기 쉽지 않음\n",
    "\n",
    "# 교수님용\n",
    "\n",
    "def quicksort(arr):\n",
    "    if len(arr) <= 1:\n",
    "        return arr\n",
    "    pivot = arr[len(arr) // 2]\n",
    "    left = [x for x in arr if x < pivot]\n",
    "    middle = [x for x in arr if x == pivot]\n",
    "    right = [x for x in arr if x > pivot]\n",
    "    return quicksort(left) + middle + quicksort(right)\n",
    "\n",
    "print(quicksort([3,6,8,10,1,2,1]))"
   ]
  },
  {
   "cell_type": "markdown",
   "id": "ca5a6d09",
   "metadata": {},
   "source": [
    "### bubble sort\n",
    "- 버블은 아래에서부터 위로 버블버블 올라감 = 가벼운게 가장 위에 있어야함\n",
    "- 즉 위에서 부터 12345 형태로 두고 싶음\n",
    "- min같은거 사용하지 않고 숫자를 서로 비교만 해서 정렬하기\n",
    "- swap을 사용"
   ]
  },
  {
   "cell_type": "markdown",
   "id": "50581f91",
   "metadata": {},
   "source": [
    "## 기본데이터 타입\n",
    "- 정수 int\n",
    "- 실수 float\n",
    "- 불리안 booleans\n",
    "- 문자열 str\n",
    "  \n",
    "// 몫을 구하는 것으로 소수점자리를 떼버리는데 활용가능함  \n",
    "소수점을 떼주는 함수가 있지만 // 쓰는게 속도 등이 더 빠르게 계산됨\n",
    "\n",
    "### type() 함수로 타입을 확인할 수 있음"
   ]
  },
  {
   "cell_type": "code",
   "execution_count": 23,
   "id": "2bc26c72",
   "metadata": {},
   "outputs": [
    {
     "data": {
      "text/plain": [
       "float"
      ]
     },
     "execution_count": 23,
     "metadata": {},
     "output_type": "execute_result"
    }
   ],
   "source": [
    "u = 2.5\n",
    "type(u)"
   ]
  },
  {
   "cell_type": "code",
   "execution_count": 24,
   "id": "cd12a1a2",
   "metadata": {},
   "outputs": [
    {
     "name": "stdout",
     "output_type": "stream",
     "text": [
      "<class 'float'>\n",
      "<class 'int'>\n"
     ]
    }
   ],
   "source": [
    "x = 2.0\n",
    "y = 2\n",
    "print(type(x))\n",
    "print(type(y))"
   ]
  },
  {
   "cell_type": "markdown",
   "id": "cf7c23c4",
   "metadata": {},
   "source": [
    "### bool\n",
    "\n",
    "조건에 따른 if, while 문 등을 쓸 때 유용하게 활용가능\n",
    "\n",
    "bool과 숫자타입은 호환이 가능하다 !!!!!!!\n",
    "\n",
    "### 불리안의 경우 이항연산자\n",
    "### 이항연산자의 항에 대한 발생할수있는 모든 경우의 수는 4개\n",
    "( t,t) (t,f) (f,t) ( f,f)\n",
    "### 단항이면 2개 \n",
    "(t) (f)"
   ]
  },
  {
   "cell_type": "code",
   "execution_count": 12,
   "id": "fb9ab27d",
   "metadata": {},
   "outputs": [
    {
     "name": "stdout",
     "output_type": "stream",
     "text": [
      "<class 'bool'>\n"
     ]
    }
   ],
   "source": [
    "t, f = True, False\n",
    "print(type(t)) # 변수의 type을 출력"
   ]
  },
  {
   "cell_type": "code",
   "execution_count": 13,
   "id": "afa64882",
   "metadata": {},
   "outputs": [
    {
     "name": "stdout",
     "output_type": "stream",
     "text": [
      "False\n",
      "True\n",
      "False\n",
      "True\n"
     ]
    }
   ],
   "source": [
    "print(t and f) # Logical AND;   이항연산자\n",
    "print(t or f)  # Logical OR;     \n",
    "print(not t)   # Logical NOT;\n",
    "print(t != f)  # Logical XOR;"
   ]
  },
  {
   "cell_type": "markdown",
   "id": "3b7d0dfc",
   "metadata": {},
   "source": [
    "### 문자열 \n",
    "\n",
    "len()  길이\n",
    "\n",
    "문자열에 대한 더하기 가능  \n",
    "숫자 더하기는 사칙연산  \n",
    "문자열의 더하기는 문자 + 문자 로 '연결'이 됨  "
   ]
  },
  {
   "cell_type": "markdown",
   "id": "f22291dd",
   "metadata": {},
   "source": [
    "## 문자열 포맷팅 ( formatting )\n",
    "\n",
    "%f - 실수\n",
    "\n",
    "%.f - 실수의 소숫점 이하 자리 수를 지정"
   ]
  },
  {
   "cell_type": "code",
   "execution_count": 22,
   "id": "c897b32f",
   "metadata": {},
   "outputs": [
    {
     "name": "stdout",
     "output_type": "stream",
     "text": [
      "174.234500cm \n",
      "174.2cm\n"
     ]
    }
   ],
   "source": [
    "height = 174.2345\n",
    "print(\"%fcm \\n%.1fcm\" % (height, height))"
   ]
  },
  {
   "cell_type": "code",
   "execution_count": 30,
   "id": "914d0b58",
   "metadata": {},
   "outputs": [
    {
     "name": "stdout",
     "output_type": "stream",
     "text": [
      "5와 7를 더해주면 12가 됩니다\n"
     ]
    }
   ],
   "source": [
    "### 교수님이랑 같이 실습\n",
    "\n",
    "a = 5\n",
    "b = 7\n",
    "print(\"%d와 %d를 더해주면 %d가 됩니다\" % (a,b,a+b))"
   ]
  },
  {
   "cell_type": "markdown",
   "id": "9790ca79",
   "metadata": {},
   "source": [
    "## 컨테이너 ( Containers )\n",
    "- 두 개 이상의 값을 저장\n",
    "- 파이썬 내장 컨테이너 타입 \n",
    "  - 리스트 lists []\n",
    "  - 사전   dictionaries {}\n",
    "  - 집합   sets\n",
    "  - 튜플   tuples ()"
   ]
  },
  {
   "cell_type": "code",
   "execution_count": 34,
   "id": "65bcaa7d",
   "metadata": {},
   "outputs": [
    {
     "name": "stdout",
     "output_type": "stream",
     "text": [
      "[1, 2, 'asdf'] <class 'list'>\n"
     ]
    }
   ],
   "source": [
    "# 리스트\n",
    "\n",
    "c = [ 1, 2, 'asdf']\n",
    "print(c, type(c))"
   ]
  },
  {
   "cell_type": "markdown",
   "id": "72e8977e",
   "metadata": {},
   "source": [
    "### 튜플생성자는 리스트를 받아서 튜플로 변환함\n",
    "\n",
    "### - 튜플은 값의 변경이 불가함 (리스트와 다름점!!)"
   ]
  },
  {
   "cell_type": "code",
   "execution_count": 40,
   "id": "3ef9d219",
   "metadata": {},
   "outputs": [
    {
     "name": "stdout",
     "output_type": "stream",
     "text": [
      "(1, 2, 'asdf') <class 'tuple'>\n"
     ]
    }
   ],
   "source": [
    "# tuple\n",
    "\n",
    "c_1 = ( 1, 2, 'asdf' )\n",
    "print(c_1, type(c_1))"
   ]
  },
  {
   "cell_type": "code",
   "execution_count": 46,
   "id": "8c912511",
   "metadata": {},
   "outputs": [],
   "source": [
    "d, e, f = c_1"
   ]
  },
  {
   "cell_type": "code",
   "execution_count": 47,
   "id": "a0f5fa42",
   "metadata": {},
   "outputs": [
    {
     "data": {
      "text/plain": [
       "1"
      ]
     },
     "execution_count": 47,
     "metadata": {},
     "output_type": "execute_result"
    }
   ],
   "source": [
    "d"
   ]
  },
  {
   "cell_type": "code",
   "execution_count": 48,
   "id": "3f009f3b",
   "metadata": {},
   "outputs": [
    {
     "data": {
      "text/plain": [
       "2"
      ]
     },
     "execution_count": 48,
     "metadata": {},
     "output_type": "execute_result"
    }
   ],
   "source": [
    "e"
   ]
  },
  {
   "cell_type": "code",
   "execution_count": 49,
   "id": "a60e7832",
   "metadata": {},
   "outputs": [
    {
     "data": {
      "text/plain": [
       "'asdf'"
      ]
     },
     "execution_count": 49,
     "metadata": {},
     "output_type": "execute_result"
    }
   ],
   "source": [
    "f"
   ]
  },
  {
   "cell_type": "code",
   "execution_count": 50,
   "id": "3e226237",
   "metadata": {},
   "outputs": [
    {
     "data": {
      "text/plain": [
       "(1, 2, 'asdf')"
      ]
     },
     "execution_count": 50,
     "metadata": {},
     "output_type": "execute_result"
    }
   ],
   "source": [
    "c_1"
   ]
  },
  {
   "cell_type": "code",
   "execution_count": 51,
   "id": "f9842ace",
   "metadata": {},
   "outputs": [
    {
     "data": {
      "text/plain": [
       "'asdf'"
      ]
     },
     "execution_count": 51,
     "metadata": {},
     "output_type": "execute_result"
    }
   ],
   "source": [
    "# 인덱싱\n",
    "# 인덱스 번호를 통해 값을 뽑아오는 것\n",
    "c_1[2]"
   ]
  },
  {
   "cell_type": "code",
   "execution_count": 53,
   "id": "a58ae02d",
   "metadata": {},
   "outputs": [
    {
     "ename": "TypeError",
     "evalue": "'tuple' object does not support item assignment",
     "output_type": "error",
     "traceback": [
      "\u001b[1;31m---------------------------------------------------------------------------\u001b[0m",
      "\u001b[1;31mTypeError\u001b[0m                                 Traceback (most recent call last)",
      "Input \u001b[1;32mIn [53]\u001b[0m, in \u001b[0;36m<cell line: 1>\u001b[1;34m()\u001b[0m\n\u001b[1;32m----> 1\u001b[0m c_1[\u001b[38;5;241m2\u001b[39m] \u001b[38;5;241m=\u001b[39m \u001b[38;5;124m\"\u001b[39m\u001b[38;5;124mㅋㅌㅊㅍ\u001b[39m\u001b[38;5;124m\"\u001b[39m\n",
      "\u001b[1;31mTypeError\u001b[0m: 'tuple' object does not support item assignment"
     ]
    }
   ],
   "source": [
    "c_1[2] = \"ㅋㅌㅊㅍ\"   \n",
    "\n",
    "# 에러 !!!  튜플이라서 값을 바꾸려고하면 에러가 남\n",
    "\n",
    "## TypeError:'tuple' object does not support item assignment"
   ]
  },
  {
   "cell_type": "markdown",
   "id": "712a54bb",
   "metadata": {},
   "source": [
    "# 튜플에 복사해서 넣는 것과 ?? 튜플의 값을 바꾸는 것은 다르다??????"
   ]
  },
  {
   "cell_type": "markdown",
   "id": "c2156bd2",
   "metadata": {},
   "source": [
    "### 파이썬에만 있는 기능 --> 음수 인덱싱\n",
    "- 뒤에서부터 세어줌\n",
    "- 단, 뒤에부터 셀경우는 0부터 세지 않고 [-1]을 하면 맨뒤의 애를 불러옴\n",
    "  \n",
    "*** 음수 인덱싱 쓸수 없다면 len함수를 사용해서 맨뒤의 값을 가져올수있음! *** "
   ]
  },
  {
   "cell_type": "code",
   "execution_count": 54,
   "id": "98024bbd",
   "metadata": {},
   "outputs": [
    {
     "data": {
      "text/plain": [
       "'asdf'"
      ]
     },
     "execution_count": 54,
     "metadata": {},
     "output_type": "execute_result"
    }
   ],
   "source": [
    "c[-1]"
   ]
  },
  {
   "cell_type": "code",
   "execution_count": 55,
   "id": "539125e0",
   "metadata": {},
   "outputs": [
    {
     "data": {
      "text/plain": [
       "3"
      ]
     },
     "execution_count": 55,
     "metadata": {},
     "output_type": "execute_result"
    }
   ],
   "source": [
    "len(c)"
   ]
  },
  {
   "cell_type": "code",
   "execution_count": 58,
   "id": "712f3bc7",
   "metadata": {},
   "outputs": [
    {
     "data": {
      "text/plain": [
       "'asdf'"
      ]
     },
     "execution_count": 58,
     "metadata": {},
     "output_type": "execute_result"
    }
   ],
   "source": [
    "c[len(c)-1]     # java나 c에서는 이런식으로 구할 수 있게됨"
   ]
  },
  {
   "cell_type": "markdown",
   "id": "34816654",
   "metadata": {},
   "source": [
    "### 빈 리스트를 만든 후 append를 통해 while, for문 시에 리스트에 집어넣으면서 사용하는 경우가 많음!\n"
   ]
  },
  {
   "cell_type": "code",
   "execution_count": 61,
   "id": "b39a8446",
   "metadata": {},
   "outputs": [
    {
     "data": {
      "text/plain": [
       "[0, 1, 2, 3, 4, 5, 6, 7, 8, 9]"
      ]
     },
     "execution_count": 61,
     "metadata": {},
     "output_type": "execute_result"
    }
   ],
   "source": [
    "l1 = []\n",
    "for i in range(10) : # range(10) :: 0부터 9(총 10개)까지 하나씩 생성하면서 리스트에 넣음(append)\n",
    "    l1.append(i)\n",
    "\n",
    "l1"
   ]
  },
  {
   "cell_type": "code",
   "execution_count": 64,
   "id": "c34d79a6",
   "metadata": {},
   "outputs": [
    {
     "data": {
      "text/plain": [
       "[0, 1, 2, 3, 4, 5, 6, 7, 8, 9]"
      ]
     },
     "execution_count": 64,
     "metadata": {},
     "output_type": "execute_result"
    }
   ],
   "source": [
    "l1 = []\n",
    "for i in range(10) : \n",
    "    l1.extend([i])     # l1.extend(i) 하면 에러  //  l1.extend([i]) 이렇게 해야 에러X\n",
    "\n",
    "l1\n",
    "\n",
    "# append :: 요소 하나를 만들어서 하나씩 요소를 추가하고 싶은 경우\n",
    "# extend :: 컨테이너를 계속 이어붙이고 싶은 경우\n",
    "\n",
    "# 현재 상황에서는 같아보이지만 사용목적?이 다르다는 것을 정확히 인지하고 있어야 함"
   ]
  },
  {
   "cell_type": "markdown",
   "id": "51903f5c",
   "metadata": {},
   "source": [
    "### 인덱싱과 슬라이싱\n",
    "- 인덱싱은 하나의 요소를 가져오고 싶을 때\n",
    "- 슬라이싱은 리스트의 일부(서브리스트)를 가져오고 싶을 때 "
   ]
  },
  {
   "cell_type": "code",
   "execution_count": 66,
   "id": "68101ac5",
   "metadata": {},
   "outputs": [
    {
     "data": {
      "text/plain": [
       "[0, 1, 2, 3, 4]"
      ]
     },
     "execution_count": 66,
     "metadata": {},
     "output_type": "execute_result"
    }
   ],
   "source": [
    "nums = list(range(5))\n",
    "nums"
   ]
  },
  {
   "cell_type": "code",
   "execution_count": 68,
   "id": "aa805559",
   "metadata": {},
   "outputs": [
    {
     "data": {
      "text/plain": [
       "[0, 1, 8, 9, 4]"
      ]
     },
     "execution_count": 68,
     "metadata": {},
     "output_type": "execute_result"
    }
   ],
   "source": [
    "# 슬라이싱으로 값도 변경 가능!\n",
    "\n",
    "nums[2:4] = [8, 9]\n",
    "nums"
   ]
  },
  {
   "cell_type": "code",
   "execution_count": 71,
   "id": "2e9c553c",
   "metadata": {},
   "outputs": [
    {
     "data": {
      "text/plain": [
       "[0, 1, 100, 200, 300, 300, 300, 4]"
      ]
     },
     "execution_count": 71,
     "metadata": {},
     "output_type": "execute_result"
    }
   ],
   "source": [
    "# 값의 수가 같지않아도 가능함!!\n",
    "\n",
    "nums[2:4] = [ 100, 200, 300 ]\n",
    "nums\n",
    "\n",
    "# 아마 넘파이에서는 길이가 정해져있어서 불가능할것"
   ]
  },
  {
   "cell_type": "code",
   "execution_count": 72,
   "id": "ea7682b8",
   "metadata": {},
   "outputs": [
    {
     "name": "stdout",
     "output_type": "stream",
     "text": [
      "[0, 1, 2, 3, 4, 5, 6, 7, 8, 9]\n",
      "[0, 2, 4, 6, 8]\n",
      "[1, 3, 5, 7, 9]\n",
      "[9, 8, 7, 6, 5, 4, 3, 2, 1, 0]\n",
      "[9, 8]\n"
     ]
    }
   ],
   "source": [
    "nums2 = list(range(10))\n",
    "print(nums2)\n",
    "print(nums2[::2])    # 처음부터 2씩 건너뛰면서 출력 -> 결과적으로 짝수만 출력\n",
    "print(nums2[1::2])   # 1번째부터 2씩 건너뛰면서 출력 -> 결과적으로 홀수만 출력\n",
    "print(nums2[::-1])   # 뒤에서부터 거꾸로 출력\n",
    "print(nums2[:-3:-1]) # nums의 -3 인덱스 (7) 이전까지 뒤에서부터 거꾸로 출력"
   ]
  },
  {
   "cell_type": "markdown",
   "id": "a5afd2a2",
   "metadata": {},
   "source": [
    "## 순환/반복(Loops)\n",
    "일반적으로 for문"
   ]
  },
  {
   "cell_type": "code",
   "execution_count": 74,
   "id": "1fefae7a",
   "metadata": {},
   "outputs": [
    {
     "name": "stdout",
     "output_type": "stream",
     "text": [
      "cat\n",
      "dog\n",
      "monkey\n"
     ]
    }
   ],
   "source": [
    "animals = ['cat', 'dog', 'monkey']\n",
    "for animal in animals: # animals의 모든 요소에 대하여 - 매 순환마다 요소를 animal에 assign\n",
    "    print(animal)\n",
    "    \n",
    "# for ~ in 리스트 :: 형식으로 in  뒤에 바로 리스트 쓸수있게 되어있음"
   ]
  },
  {
   "cell_type": "code",
   "execution_count": 78,
   "id": "d3d04e32",
   "metadata": {},
   "outputs": [],
   "source": [
    "names = ['a', 'b', 'c']\n",
    "scores = [ 50, 90, 70 ]"
   ]
  },
  {
   "cell_type": "code",
   "execution_count": 79,
   "id": "710f1f6a",
   "metadata": {},
   "outputs": [
    {
     "name": "stdout",
     "output_type": "stream",
     "text": [
      "a\n",
      "b\n",
      "c\n"
     ]
    }
   ],
   "source": [
    "for i, names in enumerate(names) : \n",
    "    print(names)"
   ]
  },
  {
   "cell_type": "code",
   "execution_count": 83,
   "id": "59453800",
   "metadata": {},
   "outputs": [
    {
     "ename": "TypeError",
     "evalue": "'list' object cannot be interpreted as an integer",
     "output_type": "error",
     "traceback": [
      "\u001b[1;31m---------------------------------------------------------------------------\u001b[0m",
      "\u001b[1;31mTypeError\u001b[0m                                 Traceback (most recent call last)",
      "Input \u001b[1;32mIn [83]\u001b[0m, in \u001b[0;36m<cell line: 3>\u001b[1;34m()\u001b[0m\n\u001b[0;32m      1\u001b[0m \u001b[38;5;66;03m# ???????????????????????????????????????? 두개가 나란히 나오도록 하는게 있었다..\u001b[39;00m\n\u001b[1;32m----> 3\u001b[0m \u001b[38;5;28;01mfor\u001b[39;00m i, name \u001b[38;5;129;01min\u001b[39;00m \u001b[38;5;28;43menumerate\u001b[39;49m\u001b[43m(\u001b[49m\u001b[43mnames\u001b[49m\u001b[43m,\u001b[49m\u001b[43m \u001b[49m\u001b[43mscores\u001b[49m\u001b[43m)\u001b[49m : \n\u001b[0;32m      4\u001b[0m     \u001b[38;5;28mprint\u001b[39m(names, scores)\n",
      "\u001b[1;31mTypeError\u001b[0m: 'list' object cannot be interpreted as an integer"
     ]
    }
   ],
   "source": [
    "# ???????????????????????????????????????? 두개가 나란히 나오도록 하는게 있었다..\n",
    "\n",
    "for i, name in enumerate(names, scores) : \n",
    "    print(names, scores)"
   ]
  },
  {
   "cell_type": "code",
   "execution_count": 85,
   "id": "e832d82d",
   "metadata": {},
   "outputs": [
    {
     "name": "stdout",
     "output_type": "stream",
     "text": [
      "['Hi', 'how', 'are', 'you']\n",
      "Hi,how,are,you\n",
      "['Hi', 'how', 'are', 'you']\n"
     ]
    }
   ],
   "source": [
    "##  split()\n",
    "\n",
    "text = 'Hi how are you'\n",
    "text_split = text.split() #문자열을 space 기준으로 분리\n",
    "print(text_split)\n",
    "\n",
    "text_again = ','.join(text_split) \n",
    "#문자열 리스트를 병합, join 앞의 문자열을 중간에 끼워 넣음\n",
    "## 문자열을 연결하는 중간중간에 ,를 넣어서 연결하겠다.\n",
    "print(text_again)\n",
    "\n",
    "\n",
    "print(text_again.split(',')) #,를 기준으로 문자열을 분리하고 싶다면?"
   ]
  },
  {
   "cell_type": "code",
   "execution_count": null,
   "id": "7002d8d6",
   "metadata": {},
   "outputs": [],
   "source": []
  }
 ],
 "metadata": {
  "kernelspec": {
   "display_name": "Python 3 (ipykernel)",
   "language": "python",
   "name": "python3"
  },
  "language_info": {
   "codemirror_mode": {
    "name": "ipython",
    "version": 3
   },
   "file_extension": ".py",
   "mimetype": "text/x-python",
   "name": "python",
   "nbconvert_exporter": "python",
   "pygments_lexer": "ipython3",
   "version": "3.9.12"
  }
 },
 "nbformat": 4,
 "nbformat_minor": 5
}
