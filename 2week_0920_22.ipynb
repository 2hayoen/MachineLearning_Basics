{
 "cells": [
  {
   "cell_type": "markdown",
   "id": "2d9baa11",
   "metadata": {},
   "source": [
    "## 리스트 컴프리헨션(list comprehensions)\n",
    "일반적으로 리스트의 모든 값에 대해 동일한 연산을 해서 그 결과를 다시 리스트로 만들고 싶으면 아래와 같이 for문을 사용할수있음  \n",
    "\n",
    "\n",
    "리스트 연산 시 "
   ]
  },
  {
   "cell_type": "code",
   "execution_count": 1,
   "id": "53ad7bb5",
   "metadata": {},
   "outputs": [
    {
     "name": "stdout",
     "output_type": "stream",
     "text": [
      "[0, 1, 4, 9, 16]\n"
     ]
    }
   ],
   "source": [
    "nums = [0, 1, 2, 3, 4]\n",
    "squares = []\n",
    "for x in nums:\n",
    "    squares.append(x ** 2)\n",
    "print(squares)"
   ]
  },
  {
   "cell_type": "markdown",
   "id": "018d5f5a",
   "metadata": {},
   "source": [
    "### list comprehension을 사용하면 아래와 같이 축약하여 표현할 수 있음:"
   ]
  },
  {
   "cell_type": "code",
   "execution_count": 4,
   "id": "848ed679",
   "metadata": {},
   "outputs": [
    {
     "name": "stdout",
     "output_type": "stream",
     "text": [
      "[0, 1, 4, 9, 16]\n"
     ]
    }
   ],
   "source": [
    "nums = [0, 1, 2, 3, 4]\n",
    "squares = [x ** 2 for x in nums]\n",
    "print(squares)"
   ]
  },
  {
   "cell_type": "markdown",
   "id": "53322053",
   "metadata": {},
   "source": [
    "리스트 컴프리헨션을 사용하는 이유는 for문을 사용했을 때 길어지는 것을 보완하기 우해 사용함.  \n",
    "\n",
    "\n",
    "List comprehension에 아래와 같이 조건절을 추가하는 것이 가능:"
   ]
  },
  {
   "cell_type": "code",
   "execution_count": 3,
   "id": "968c8a7b",
   "metadata": {},
   "outputs": [
    {
     "name": "stdout",
     "output_type": "stream",
     "text": [
      "[0, 4, 16]\n"
     ]
    }
   ],
   "source": [
    "nums = [0, 1, 2, 3, 4]\n",
    "even_squares = [x ** 2 for x in nums if x % 2 == 0]\n",
    "print(even_squares)"
   ]
  },
  {
   "cell_type": "markdown",
   "id": "3f23702f",
   "metadata": {},
   "source": [
    "***********"
   ]
  },
  {
   "cell_type": "code",
   "execution_count": 14,
   "id": "6ec9ab68",
   "metadata": {},
   "outputs": [
    {
     "name": "stdout",
     "output_type": "stream",
     "text": [
      "1 6 7\n",
      "2 7 9\n",
      "32 8 40\n",
      "4 9 13\n",
      "5 10 15\n",
      "[7, 9, 40, 13, 15]\n"
     ]
    }
   ],
   "source": [
    "### 겨수님 실습\n",
    "\n",
    "l1 = [1, 2, 32, 4, 5]\n",
    "l2 = [6, 7, 8, 9, 10]\n",
    "\n",
    "l3 = []\n",
    "\n",
    "for i in range(len(l1)):\n",
    "    print(l1[i], l2[i], l1[i] + l2[i])\n",
    "    l3.append(l1[i] + l2[i])\n",
    "print(l3)"
   ]
  },
  {
   "cell_type": "code",
   "execution_count": 18,
   "id": "95131af2",
   "metadata": {},
   "outputs": [
    {
     "data": {
      "text/plain": [
       "[7, 9, 40, 13, 15]"
      ]
     },
     "execution_count": 18,
     "metadata": {},
     "output_type": "execute_result"
    }
   ],
   "source": [
    "l4 = [ l1[i] + l2[i] for i in range(len(l1)) ]\n",
    "# l4 = [ 리스트의 식(append안에 들어가는거 먼저 쓰기) ]\n",
    "\n",
    "l4"
   ]
  },
  {
   "cell_type": "code",
   "execution_count": 19,
   "id": "2fcef704",
   "metadata": {},
   "outputs": [
    {
     "data": {
      "text/plain": [
       "13"
      ]
     },
     "execution_count": 19,
     "metadata": {},
     "output_type": "execute_result"
    }
   ],
   "source": [
    "l4[3]"
   ]
  },
  {
   "cell_type": "markdown",
   "id": "d10bca80",
   "metadata": {},
   "source": [
    "- 리스트는 인덱스로 값을 뽑아냄\n",
    "딕셔너리는 키값으로 값을 뽑아냄\n",
    "\n",
    "- 그러나 알고보면 딕셔너리는 리스트의 확장버전이라고 볼수있다\n",
    "리스트는 숫자 즉 인덱스로 키값이 정해진 것과 같기 때문\n",
    "딕셔너리는 키값으로 모든 유형의 값을 모두 넣을 수 있음"
   ]
  },
  {
   "cell_type": "markdown",
   "id": "56ee6fe3",
   "metadata": {},
   "source": [
    "******"
   ]
  },
  {
   "cell_type": "markdown",
   "id": "e425b037",
   "metadata": {},
   "source": [
    "## 딕셔너리 Dict"
   ]
  },
  {
   "cell_type": "markdown",
   "id": "7978148c",
   "metadata": {},
   "source": [
    "dictionary는 (key, value) 쌍으로 구성됨"
   ]
  },
  {
   "cell_type": "code",
   "execution_count": 5,
   "id": "114b5123",
   "metadata": {},
   "outputs": [
    {
     "name": "stdout",
     "output_type": "stream",
     "text": [
      "cute\n",
      "True\n"
     ]
    }
   ],
   "source": [
    "# 딕셔너리 생성\n",
    "d = { 'cat' : 'cute', 'dog' : 'furry' }\n",
    "\n",
    "# 키가 'cute'인 쌍의 value를 출력\n",
    "print(d['cat'])\n",
    "\n",
    "# dict에 'cat'키가 존재하는지 확인하고 싶을때 \n",
    "print('cat' in d)"
   ]
  },
  {
   "cell_type": "markdown",
   "id": "8d01e918",
   "metadata": {},
   "source": [
    "*******************"
   ]
  },
  {
   "cell_type": "code",
   "execution_count": 53,
   "id": "ce61cbf7",
   "metadata": {},
   "outputs": [
    {
     "name": "stdout",
     "output_type": "stream",
     "text": [
      "[0, 1, 3, 2, 1, 2, 2, 3]\n"
     ]
    }
   ],
   "source": [
    "### 교수님 실습\n",
    "### 리스트 컴프리헨션을 활용해 딕셔너리 값으로 변환하기\n",
    "name2code = {'a': 0, 'b' : 1, 'ab' : 2, 'o' : 3 }\n",
    "names = ['a','b','o','ab', 'b','ab','ab','o']\n",
    "\n",
    "### \n",
    "change_names = [ name2code[i] for i in names ]\n",
    "print(change_names)"
   ]
  },
  {
   "cell_type": "code",
   "execution_count": 54,
   "id": "6a200bb8",
   "metadata": {},
   "outputs": [
    {
     "data": {
      "text/plain": [
       "[0, 1, 3, 2, 1, 2, 2, 3]"
      ]
     },
     "execution_count": 54,
     "metadata": {},
     "output_type": "execute_result"
    }
   ],
   "source": [
    "change_names2 = []\n",
    "\n",
    "for i in names:\n",
    "    change_names2.append(name2code[i])\n",
    "    \n",
    "change_names2"
   ]
  },
  {
   "cell_type": "code",
   "execution_count": 21,
   "id": "b1ca3e96",
   "metadata": {},
   "outputs": [
    {
     "name": "stdout",
     "output_type": "stream",
     "text": [
      "a\n",
      "0\n",
      "b\n",
      "1\n",
      "o\n",
      "3\n",
      "ab\n",
      "2\n",
      "b\n",
      "1\n",
      "ab\n",
      "2\n",
      "ab\n",
      "2\n",
      "o\n",
      "3\n"
     ]
    }
   ],
   "source": [
    "for i in names:\n",
    "    print(i)\n",
    "    print(name2code[i])"
   ]
  },
  {
   "cell_type": "code",
   "execution_count": 23,
   "id": "28dc8437",
   "metadata": {},
   "outputs": [
    {
     "data": {
      "text/plain": [
       "[0, 1, 3, 2, 1, 2, 2, 3]"
      ]
     },
     "execution_count": 23,
     "metadata": {},
     "output_type": "execute_result"
    }
   ],
   "source": [
    "r2 = []\n",
    "\n",
    "for i in names:\n",
    "    r2.append(name2code[i])\n",
    "    \n",
    "r2"
   ]
  },
  {
   "cell_type": "code",
   "execution_count": 34,
   "id": "4adfebdd",
   "metadata": {},
   "outputs": [
    {
     "data": {
      "text/plain": [
       "[0, 1, 3, 2, 1, 2, 2, 3]"
      ]
     },
     "execution_count": 34,
     "metadata": {},
     "output_type": "execute_result"
    }
   ],
   "source": [
    "r1 = [name2code[i] for i in names]\n",
    "r1"
   ]
  },
  {
   "cell_type": "code",
   "execution_count": 61,
   "id": "74f8930b",
   "metadata": {},
   "outputs": [
    {
     "name": "stdout",
     "output_type": "stream",
     "text": [
      "{0: 'a', 1: 'b', 2: 'ab', 3: 'o'}\n",
      "['a', 'b', 'o', 'ab', 'b', 'ab', 'ab', 'o']\n"
     ]
    }
   ],
   "source": [
    "## 다시 되돌려 놓기 1 ; 교수님 답\n",
    "\n",
    "# 알아서 기존의 딕셔너리 키값과 벨류값을 바꾸기\n",
    "name2code2 = { code:name for name, code in name2code.items()}\n",
    "print(name2code2)\n",
    "\n",
    "r1_org = [ name2code2[i] for i in r1]\n",
    "print(r1_org)"
   ]
  },
  {
   "cell_type": "code",
   "execution_count": 62,
   "id": "aadc1ec8",
   "metadata": {},
   "outputs": [],
   "source": [
    "# code2name = dict()\n",
    "# for key, value in name2code.items():\n",
    "#     code2name.append(value:key)\n",
    "    \n",
    "## 안먹힘!"
   ]
  },
  {
   "cell_type": "code",
   "execution_count": 63,
   "id": "da1be437",
   "metadata": {},
   "outputs": [
    {
     "data": {
      "text/plain": [
       "dict_keys([0, 1, 2, 3])"
      ]
     },
     "execution_count": 63,
     "metadata": {},
     "output_type": "execute_result"
    }
   ],
   "source": [
    "name2code2.keys()"
   ]
  },
  {
   "cell_type": "code",
   "execution_count": 66,
   "id": "957ee687",
   "metadata": {},
   "outputs": [
    {
     "data": {
      "text/plain": [
       "[0, 1, 2, 3]"
      ]
     },
     "execution_count": 66,
     "metadata": {},
     "output_type": "execute_result"
    }
   ],
   "source": [
    "# 딕셔너리 값의 키가 지금 0,1,2,3으로 리스트의 인덱스 값과 같으므로\n",
    "# 굳이 딕셔너리 일 필요가 없다\n",
    "# 따라서 딕셔너리를 그냥 리스트로 만들어 버리는 법 !! \n",
    "list(name2code2.keys())"
   ]
  },
  {
   "cell_type": "code",
   "execution_count": 67,
   "id": "8136c8fc",
   "metadata": {},
   "outputs": [
    {
     "data": {
      "text/plain": [
       "[0, 1, 2, 3]"
      ]
     },
     "execution_count": 67,
     "metadata": {},
     "output_type": "execute_result"
    }
   ],
   "source": [
    "code2name3 = list(name2code2.keys())\n",
    "code2name3"
   ]
  },
  {
   "cell_type": "code",
   "execution_count": 68,
   "id": "0d08fe4f",
   "metadata": {},
   "outputs": [],
   "source": [
    "# name2code.get(c) # 없는 값"
   ]
  },
  {
   "cell_type": "code",
   "execution_count": 69,
   "id": "c3cef168",
   "metadata": {},
   "outputs": [],
   "source": [
    "name2code.get('c') # 없는 값"
   ]
  },
  {
   "cell_type": "code",
   "execution_count": 72,
   "id": "1b75593e",
   "metadata": {},
   "outputs": [
    {
     "name": "stdout",
     "output_type": "stream",
     "text": [
      "-1\n",
      "2\n"
     ]
    }
   ],
   "source": [
    "# 딕셔너리 안에 없는 키값일 경우 에러나 그냥 넘어가는것이 아닌\n",
    "# 지정한 값을 출력하도록 하는 법 콤마 값\n",
    "# 딕셔너리 안에 없는 c키값을 불렀을 때 -1을 출력\n",
    "aa = name2code.get('c',-1)\n",
    "\n",
    "# 딕셔너리에 원래 있는 키값을 불러오면 그대로 원래의 벨류값을 반환함\n",
    "bb = name2code.get('ab',-1)\n",
    "\n",
    "print(aa)\n",
    "print(bb)"
   ]
  },
  {
   "cell_type": "code",
   "execution_count": 73,
   "id": "009ddf0e",
   "metadata": {},
   "outputs": [
    {
     "name": "stdout",
     "output_type": "stream",
     "text": [
      "a\n",
      "b\n",
      "ab\n",
      "o\n"
     ]
    }
   ],
   "source": [
    "for item in name2code:\n",
    "    print(item)"
   ]
  },
  {
   "cell_type": "code",
   "execution_count": 75,
   "id": "33c2a6f5",
   "metadata": {},
   "outputs": [
    {
     "name": "stdout",
     "output_type": "stream",
     "text": [
      "0\n",
      "1\n",
      "2\n",
      "3\n"
     ]
    }
   ],
   "source": [
    "for item in name2code.values():\n",
    "    print(item)"
   ]
  },
  {
   "cell_type": "markdown",
   "id": "606c3d12",
   "metadata": {},
   "source": [
    "### 딕셔너리를 이용해 갯수세기"
   ]
  },
  {
   "cell_type": "code",
   "execution_count": 76,
   "id": "ca2229ca",
   "metadata": {},
   "outputs": [
    {
     "name": "stdout",
     "output_type": "stream",
     "text": [
      "{1: 3, 2: 1, 3: 4, 5: 3, 6: 1, 7: 1}\n"
     ]
    }
   ],
   "source": [
    "nums = [1, 1, 2, 3, 1, 5, 3, 5, 6, 7, 3, 3, 5]\n",
    "count = {}\n",
    "for i in nums:\n",
    "    if i in count: # i가 이미 딕셔너리에 있으면\n",
    "        count[i] += 1 \n",
    "    else: # i를 아직 센 적이 없다면\n",
    "        count[i] = 1\n",
    "print(count)"
   ]
  },
  {
   "cell_type": "code",
   "execution_count": 77,
   "id": "c339b84d",
   "metadata": {},
   "outputs": [
    {
     "name": "stdout",
     "output_type": "stream",
     "text": [
      "{1: 2, 2: 0, 3: 3, 5: 2, 6: 0, 7: 0}\n"
     ]
    }
   ],
   "source": [
    "nums = [1, 1, 2, 3, 1, 5, 3, 5, 6, 7, 3, 3, 5]\n",
    "count = {}\n",
    "for i in nums:\n",
    "    if i in count: # i가 이미 딕셔너리에 있으면\n",
    "        count[i] += 1 \n",
    "    else: \n",
    "        count[i] = 0    #### 0으러 설정하면안됨\n",
    "print(count)"
   ]
  },
  {
   "cell_type": "code",
   "execution_count": 81,
   "id": "97175603",
   "metadata": {},
   "outputs": [
    {
     "data": {
      "text/plain": [
       "{1: 3, 2: 1, 3: 4, 5: 3, 6: 1, 7: 1}"
      ]
     },
     "execution_count": 81,
     "metadata": {},
     "output_type": "execute_result"
    }
   ],
   "source": [
    "# count = {}\n",
    "# for i in nums:\n",
    "#         count[i] = count[i] + 1\n",
    "## ==> count[i]에서 에러가 남\n",
    "        \n",
    "count = {}\n",
    "for i in nums:\n",
    "        count[i] = count.get(i, 0) + 1\n",
    "count"
   ]
  },
  {
   "cell_type": "markdown",
   "id": "b86891dc",
   "metadata": {},
   "source": [
    "## sort정렬 sorted()"
   ]
  },
  {
   "cell_type": "code",
   "execution_count": 83,
   "id": "77007e7b",
   "metadata": {},
   "outputs": [
    {
     "data": {
      "text/plain": [
       "[1, 2, 3, 5, 6, 7]"
      ]
     },
     "execution_count": 83,
     "metadata": {},
     "output_type": "execute_result"
    }
   ],
   "source": [
    "sorted(count)"
   ]
  },
  {
   "cell_type": "markdown",
   "id": "b617de8b",
   "metadata": {},
   "source": [
    "# get() : 딕셔너리의 키값이 주어지면 벨류값을 가져옴 ??"
   ]
  },
  {
   "cell_type": "code",
   "execution_count": 85,
   "id": "879a2760",
   "metadata": {},
   "outputs": [
    {
     "name": "stdout",
     "output_type": "stream",
     "text": [
      "[3, 1, 5, 2, 6, 7]\n",
      "3 : 4\n",
      "1 : 3\n",
      "5 : 3\n",
      "2 : 1\n",
      "6 : 1\n",
      "7 : 1\n"
     ]
    }
   ],
   "source": [
    "sorted_count = sorted(count, key=count.get, reverse=True) \n",
    "# 키를 함수로 받음 (딕셔너리의 키값과 다름..!!!!!!!)\n",
    "# sort에서도 key를 사용하므로 서로 다른것임을 명심. 헷갈리지 말기.이름만 같음. 마치 동명이인\n",
    "# sort에서의 key는 무엇을 기준으로 정렬할건지를 묻는것임\n",
    "# 현재 벨류를 기준으로 정렬하고 싶기 때문에 key=count.get라고 벨류를 기준으로 하는 함수를 지정함\n",
    "print(sorted_count)\n",
    "for k in sorted_count:\n",
    "    print(k, ':', count[k])"
   ]
  },
  {
   "cell_type": "code",
   "execution_count": 87,
   "id": "41f71981",
   "metadata": {},
   "outputs": [
    {
     "name": "stdout",
     "output_type": "stream",
     "text": [
      "7 : 1\n",
      "6 : 1\n",
      "5 : 3\n",
      "3 : 4\n",
      "2 : 1\n",
      "1 : 3\n"
     ]
    }
   ],
   "source": [
    "## sorted 에 key값을 아무것도 지정하지않으면 그냥 딕셔너리의 키값을 기준으로 정렬\n",
    "\n",
    "sorted_count = sorted(count, reverse=True) \n",
    "for k in sorted_count:\n",
    "    print(k, ':', count[k])"
   ]
  },
  {
   "cell_type": "code",
   "execution_count": 91,
   "id": "9cd8899b",
   "metadata": {},
   "outputs": [
    {
     "name": "stdout",
     "output_type": "stream",
     "text": [
      "딕셔너리의 키값 기준 :  [1, 2, 3, 5, 6, 7]\n",
      "딕셔너리의 벨류 기준 :  [2, 6, 7, 1, 5, 3]\n"
     ]
    }
   ],
   "source": [
    "print('딕셔너리의 키값 기준 : ', sorted(count))\n",
    "print('딕셔너리의 벨류 기준 : ', sorted(count, key = count.get))"
   ]
  },
  {
   "cell_type": "code",
   "execution_count": 99,
   "id": "4b3c77d7",
   "metadata": {},
   "outputs": [
    {
     "name": "stdout",
     "output_type": "stream",
     "text": [
      "[7, 6, 5, 3, 2, 1]\n",
      "[3, 1, 5, 2, 6, 7]\n"
     ]
    }
   ],
   "source": [
    "# 순서를 오름 내림 바꾸기 reverse\n",
    "print(sorted(count, reverse=True ))\n",
    "print(sorted(count, key = count.get, reverse=True))"
   ]
  },
  {
   "cell_type": "markdown",
   "id": "782c6df0",
   "metadata": {},
   "source": [
    "## 집합 sets\n",
    "집합은 중복이 없고, 순서가 의미 없는 리스트라고 할 수 있으  \n",
    "중복을 없애고 싶을 때 함"
   ]
  },
  {
   "cell_type": "markdown",
   "id": "db7c898c",
   "metadata": {},
   "source": [
    "append 는 맨 뒤에 값을 추가  \n",
    "set 은 순서의 없으므로 add를 사용함"
   ]
  },
  {
   "cell_type": "markdown",
   "id": "2b4b9e27",
   "metadata": {},
   "source": [
    "enumerate() : 값의 인덱스까지 가져오고 싶을때\n",
    "  \n",
    "인덱스와 값으로 튜플이 생기게 됨"
   ]
  },
  {
   "cell_type": "markdown",
   "id": "0d231f7a",
   "metadata": {},
   "source": [
    "튜플과 리스트의 큰 차이점은 튜플은 한번 생성하면 변경이 안됌.  \n",
    "append, add 당연히 안됌"
   ]
  },
  {
   "cell_type": "markdown",
   "id": "2f64fdd7",
   "metadata": {},
   "source": [
    "## 함수 functions\n",
    "- 코드가 간결해짐\n",
    "- 다른사람들도 편하게 사용가능함\n",
    "\n"
   ]
  },
  {
   "cell_type": "markdown",
   "id": "004ce70e",
   "metadata": {},
   "source": []
  },
  {
   "cell_type": "code",
   "execution_count": null,
   "id": "33690c48",
   "metadata": {},
   "outputs": [],
   "source": [
    "def sign(x):\n",
    "    if x > 0:\n",
    "        return 'positive'\n",
    "    elif x < 0:\n",
    "        return 'negative'\n",
    "    else:\n",
    "        return 'zero'\n",
    "\n",
    "for x in [-1, 0, 1]:\n",
    "    print(sign(x))\n",
    "    \n",
    "# 인수 argument 아규먼트\n",
    "# 매개변수 parameter 파라미터\n",
    "\n",
    "# 인수를 건내받아서 매개변수게 저장한다. x가 인수를 받는 매개변수임\n",
    "\n",
    "# 함수 호출후 돌려받는 값 ; 반환값, 리턴값"
   ]
  }
 ],
 "metadata": {
  "kernelspec": {
   "display_name": "Python 3 (ipykernel)",
   "language": "python",
   "name": "python3"
  },
  "language_info": {
   "codemirror_mode": {
    "name": "ipython",
    "version": 3
   },
   "file_extension": ".py",
   "mimetype": "text/x-python",
   "name": "python",
   "nbconvert_exporter": "python",
   "pygments_lexer": "ipython3",
   "version": "3.9.12"
  }
 },
 "nbformat": 4,
 "nbformat_minor": 5
}
